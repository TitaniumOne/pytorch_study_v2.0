{
 "cells": [
  {
   "cell_type": "markdown",
   "metadata": {},
   "source": [
    "# 卷积神经网络作业\n",
    "\n",
    "## 图像分类实践\n",
    "\n",
    "从这个链接:https://pan.baidu.com/s/1L2lnwprAMC5ccu5GJ0hXVA  密码:uzvh，下载猫狗分类数据集。\n",
    "\n",
    "1. 自己动手实现经典卷积神经网络，并给出每个网络在这个数据集的准确率\n",
    "2. 尝试自己调节参数（学习率，优化器，网络结构，损失函数，数据增强等），看能否提升1中所训练模型的准确率\n",
    "3. 利用torchvision里的ImageNet预训练模型，使用fine-tuning的方法，比较不同预训练模型在该数据集上的准确率\n",
    "\n",
    "## 论文阅读\n",
    "\n",
    "1. https://papers.nips.cc/paper/4824-imagenet-classification-with-deep-convolutional-neural-networks.pdf（AlexNet)\n",
    "2. https://arxiv.org/pdf/1311.2901.pdf(CNN Visualization)\n",
    "3. https://arxiv.org/pdf/1409.1556.pdf (VGG)\n",
    "4. https://arxiv.org/pdf/1409.4842.pdf (GoogLeNet)\n",
    "5. https://arxiv.org/pdf/1512.03385.pdf (ResNet)\n",
    "6. https://arxiv.org/pdf/1608.06993.pdf (DenseNet)\n",
    "7. https://arxiv.org/pdf/1312.6229.pdf (Integrated Recognition, Localization and Detection using Convolutional Networks)\n",
    "8. http://yosinski.com/media/papers/Yosinski__2015__ICML_DL__Understanding_Neural_Networks_Through_Deep_Visualization__.pdf(CNN Visulization)\n",
    "9. https://arxiv.org/pdf/1812.01187.pdf (bag of tricks for image classificiation of cnn)\n",
    "\n",
    "## 技术延伸\n",
    "\n",
    "1. 了解并实践标签平滑技术label smooth\n",
    "2. 了解softmax-cross-entropy的变种https://zhuanlan.zhihu.com/p/34044634\n",
    "3. 了解类别不均衡时如何处理（平衡采样/类别惩罚）"
   ]
  },
  {
   "cell_type": "markdown",
   "metadata": {},
   "source": []
  }
 ],
 "metadata": {
  "kernelspec": {
   "display_name": "Python 3",
   "language": "python",
   "name": "python3"
  },
  "language_info": {
   "codemirror_mode": {
    "name": "ipython",
    "version": 3
   },
   "file_extension": ".py",
   "mimetype": "text/x-python",
   "name": "python",
   "nbconvert_exporter": "python",
   "pygments_lexer": "ipython3",
   "version": "3.6.9"
  }
 },
 "nbformat": 4,
 "nbformat_minor": 4
}
